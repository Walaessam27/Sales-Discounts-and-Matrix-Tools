{
 "cells": [
  {
   "cell_type": "code",
   "execution_count": null,
   "id": "0e9ba3e8",
   "metadata": {},
   "outputs": [],
   "source": [
    "#Task 1"
   ]
  },
  {
   "cell_type": "code",
   "execution_count": 40,
   "id": "6a71a279",
   "metadata": {},
   "outputs": [
    {
     "name": "stdout",
     "output_type": "stream",
     "text": [
      "Total Sales is: 2800\n",
      "Average Sales is: 400.0\n"
     ]
    }
   ],
   "source": [
    "def calculate_sale(sales):\n",
    "    total_sale = sum(sales)\n",
    "    average_sale = total_sale / len(sales)\n",
    "    print(\"Total Sales is:\", total_sale)\n",
    "    print(\"Average Sales is:\", average_sale)\n",
    "sales = [100, 200, 300, 400, 500, 600, 700]\n",
    "calculate_sale(sales)"
   ]
  },
  {
   "cell_type": "code",
   "execution_count": 38,
   "id": "d5acf5e1",
   "metadata": {},
   "outputs": [],
   "source": [
    "#Task 2"
   ]
  },
  {
   "cell_type": "code",
   "execution_count": 22,
   "id": "77a7cf62",
   "metadata": {},
   "outputs": [
    {
     "name": "stdout",
     "output_type": "stream",
     "text": [
      "The Discounted Total: 36.9\n"
     ]
    }
   ],
   "source": [
    "def calculate_discost(products, basket):\n",
    "    total_cost = sum(products[i] * basket[i] for i in basket)\n",
    "    total_discounted = total_cost * 0.9 \n",
    "    print(\"The Discounted Total:\", total_discounted)\n",
    "\n",
    "products = {\"apple\": 10.0, \"banana\": 7, \"orange\": 0.5}\n",
    "basket = {\"apple\": 2, \"banana\": 3}\n",
    "calculate_discost(products, basket)"
   ]
  },
  {
   "cell_type": "code",
   "execution_count": null,
   "id": "cbf90652",
   "metadata": {},
   "outputs": [],
   "source": [
    "#Task 3"
   ]
  },
  {
   "cell_type": "code",
   "execution_count": 23,
   "id": "f32a5fe4",
   "metadata": {},
   "outputs": [],
   "source": [
    "class Product:\n",
    "    def __init__(self, name, cost, quantity):\n",
    "        self.name = name\n",
    "        self.cost = cost\n",
    "        self.quantity = quantity\n",
    "\n",
    "\n",
    "product = Product(\"apple\", 1.0, 30)"
   ]
  },
  {
   "cell_type": "code",
   "execution_count": 24,
   "id": "d54acfa0",
   "metadata": {},
   "outputs": [],
   "source": [
    "#Task 4"
   ]
  },
  {
   "cell_type": "code",
   "execution_count": 25,
   "id": "205d5796",
   "metadata": {},
   "outputs": [
    {
     "name": "stdout",
     "output_type": "stream",
     "text": [
      "5.0\n"
     ]
    }
   ],
   "source": [
    "class Product:\n",
    "    def __init__(self, name, cost, quantity):\n",
    "        self.name = name\n",
    "        self.cost = cost\n",
    "        self.quantity = quantity\n",
    "\n",
    "    def total_cost(self, quantity):\n",
    "        return self.cost * quantity\n",
    "\n",
    "product = Product(\"apple\", 1.0, 30)\n",
    "print(product.total_cost(5))"
   ]
  },
  {
   "cell_type": "code",
   "execution_count": 26,
   "id": "f817840c",
   "metadata": {},
   "outputs": [],
   "source": [
    "#Task 5"
   ]
  },
  {
   "cell_type": "code",
   "execution_count": 46,
   "id": "32aebfe3",
   "metadata": {},
   "outputs": [
    {
     "name": "stdout",
     "output_type": "stream",
     "text": [
      "[[69, 47], [78, 58]]\n"
     ]
    }
   ],
   "source": [
    "def multiply_matrix(A, B):\n",
    "    result = [[sum(a * b for a, b in zip(A_row, B_col)) for B_col in zip(*B)] for A_row in A]\n",
    "    return result\n",
    "\n",
    "\n",
    "A = [[5, 6], [2, 8]]\n",
    "B = [[3, 1], [9, 7]]\n",
    "print(multiply_matrix(A, B))"
   ]
  },
  {
   "cell_type": "code",
   "execution_count": 47,
   "id": "bf5718cd",
   "metadata": {},
   "outputs": [
    {
     "name": "stdout",
     "output_type": "stream",
     "text": [
      "The Determinant of 2x2 Matrix: 28\n"
     ]
    }
   ],
   "source": [
    "def determinant_2(matrix):\n",
    "    return matrix[0][0]*matrix[1][1] - matrix[0][1]*matrix[1][0]\n",
    "\n",
    "\n",
    "matrix = [[5, 6], [2, 8]]\n",
    "print(\"The Determinant of 2x2 Matrix:\", determinant_2(matrix))\n"
   ]
  },
  {
   "cell_type": "code",
   "execution_count": 48,
   "id": "6eed6ef8",
   "metadata": {},
   "outputs": [
    {
     "name": "stdout",
     "output_type": "stream",
     "text": [
      "The Determinant of 3x3 Matrix: -203\n"
     ]
    }
   ],
   "source": [
    "def determinant_3(matrix):\n",
    "    D = 0\n",
    "    for i in range(3):\n",
    "        D += (matrix[0][i] * (matrix[1][(i+1)%3] * matrix[2][(i+2)%3] - matrix[1][(i+2)%3] * matrix[2][(i+1)%3]))\n",
    "    return D\n",
    "\n",
    "\n",
    "matrix = [[2, 5, 1], [7, 4, 3], [1, 2, 8]]\n",
    "print(\"The Determinant of 3x3 Matrix:\", determinant_3(matrix))\n"
   ]
  },
  {
   "cell_type": "code",
   "execution_count": 63,
   "id": "16c0b35c",
   "metadata": {},
   "outputs": [
    {
     "name": "stdout",
     "output_type": "stream",
     "text": [
      "The Inverse of 3x3 Matrix: [[1.75, -1.0, 0.25], [-0.25, 0.5, -0.25], [-0.25, 0.0, 0.25]]\n"
     ]
    }
   ],
   "source": [
    "def inverse_3(matrix):\n",
    "    D = determinant_3(matrix)\n",
    "    if D == 0:\n",
    "        return None\n",
    "    else:\n",
    "        inverse = [[0, 0, 0] for _ in range(3)]\n",
    "        for row in range(3):\n",
    "            for col in range(3):\n",
    "                v = [[matrix[x][y] for y in range(3) if y != col] for x in range(3) if x != row]\n",
    "                inverse[row][col] = ((-1) ** (row + col)) * determinant_2(v)\n",
    "        inverse = [[inverse[j][i] for j in range(3)] for i in range(3)]  \n",
    "        inverse = [[inverse[i][j] / D for j in range(3)] for i in range(3)]\n",
    "        return inverse\n",
    "\n",
    "matrix = [[1, 2, 1], [1, 4, 3], [1, 2, 5]]\n",
    "print(\"The Inverse of 3x3 Matrix:\", inverse_3(matrix))\n"
   ]
  },
  {
   "cell_type": "code",
   "execution_count": 50,
   "id": "55cc4378",
   "metadata": {},
   "outputs": [],
   "source": [
    "#Task 6"
   ]
  },
  {
   "cell_type": "code",
   "execution_count": 64,
   "id": "3d60aa9f",
   "metadata": {},
   "outputs": [
    {
     "name": "stdout",
     "output_type": "stream",
     "text": [
      "The final answer of the Linear Equations: [[2.0], [1.0], [2.0]]\n"
     ]
    }
   ],
   "source": [
    "def solve_lequation(A, b):\n",
    "    inverse_1 = inverse_3(A)\n",
    "    if inverse_1 is None:\n",
    "        return None\n",
    "    return multiply_matrix(inverse_1, [[x] for x in b])\n",
    "\n",
    "A = [[1, 2, 3], [2, 5, 3], [2, 0, 8]]\n",
    "b = [10, 15, 20]\n",
    "answer = solve_lequation(A, b)\n",
    "print(\"The final answer of the Linear Equations:\", answer)\n"
   ]
  }
 ],
 "metadata": {
  "kernelspec": {
   "display_name": "Python 3 (ipykernel)",
   "language": "python",
   "name": "python3"
  },
  "language_info": {
   "codemirror_mode": {
    "name": "ipython",
    "version": 3
   },
   "file_extension": ".py",
   "mimetype": "text/x-python",
   "name": "python",
   "nbconvert_exporter": "python",
   "pygments_lexer": "ipython3",
   "version": "3.11.5"
  }
 },
 "nbformat": 4,
 "nbformat_minor": 5
}
